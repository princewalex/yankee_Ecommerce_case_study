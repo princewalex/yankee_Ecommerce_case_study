{
 "cells": [
  {
   "cell_type": "markdown",
   "id": "660cd64b",
   "metadata": {},
   "source": [
    "Importing Necessary Libraries"
   ]
  },
  {
   "cell_type": "code",
   "execution_count": 4,
   "id": "6444f042",
   "metadata": {},
   "outputs": [],
   "source": [
    "import numpy as np\n",
    "import pandas as pd"
   ]
  },
  {
   "cell_type": "markdown",
   "id": "f818e58e",
   "metadata": {},
   "source": [
    "Extraction Layer"
   ]
  },
  {
   "cell_type": "code",
   "execution_count": 5,
   "id": "c1e1f96c",
   "metadata": {},
   "outputs": [],
   "source": [
    "yanki_df = pd.read_csv(r'dataset\\rawdata\\yanki_ecommerce.csv')"
   ]
  },
  {
   "cell_type": "markdown",
   "id": "a15defca",
   "metadata": {},
   "source": []
  },
  {
   "cell_type": "code",
   "execution_count": 6,
   "id": "d714d312",
   "metadata": {},
   "outputs": [
    {
     "data": {
      "text/html": [
       "<div>\n",
       "<style scoped>\n",
       "    .dataframe tbody tr th:only-of-type {\n",
       "        vertical-align: middle;\n",
       "    }\n",
       "\n",
       "    .dataframe tbody tr th {\n",
       "        vertical-align: top;\n",
       "    }\n",
       "\n",
       "    .dataframe thead th {\n",
       "        text-align: right;\n",
       "    }\n",
       "</style>\n",
       "<table border=\"1\" class=\"dataframe\">\n",
       "  <thead>\n",
       "    <tr style=\"text-align: right;\">\n",
       "      <th></th>\n",
       "      <th>Order_ID</th>\n",
       "      <th>Customer_ID</th>\n",
       "      <th>Customer_Name</th>\n",
       "      <th>Product_ID</th>\n",
       "      <th>Product_Name</th>\n",
       "      <th>Brand</th>\n",
       "      <th>Category</th>\n",
       "      <th>Price</th>\n",
       "      <th>Quantity</th>\n",
       "      <th>Total_Price</th>\n",
       "      <th>Order_Date</th>\n",
       "      <th>Shipping_Address</th>\n",
       "      <th>City</th>\n",
       "      <th>State</th>\n",
       "      <th>Country</th>\n",
       "      <th>Postal_Code</th>\n",
       "      <th>Email</th>\n",
       "      <th>Phone_Number</th>\n",
       "      <th>Payment_Method</th>\n",
       "      <th>Transaction_Status</th>\n",
       "    </tr>\n",
       "  </thead>\n",
       "  <tbody>\n",
       "    <tr>\n",
       "      <th>0</th>\n",
       "      <td>NaN</td>\n",
       "      <td>NaN</td>\n",
       "      <td>NaN</td>\n",
       "      <td>64b689a8-bf03-47d2-a5cc-0723baeb1606</td>\n",
       "      <td>major</td>\n",
       "      <td>Haynes PLC</td>\n",
       "      <td>perfume</td>\n",
       "      <td>52.34</td>\n",
       "      <td>2</td>\n",
       "      <td>104.68</td>\n",
       "      <td>27/05/2020 14:20</td>\n",
       "      <td>1648 Brown Bridge Apt. 846\\nCaitlinland, MI 57992</td>\n",
       "      <td>Davidstad</td>\n",
       "      <td>Utah</td>\n",
       "      <td>China</td>\n",
       "      <td>50247</td>\n",
       "      <td>karen64@example.com</td>\n",
       "      <td>001-217-511-0290x8262</td>\n",
       "      <td>Credit Card</td>\n",
       "      <td>completed</td>\n",
       "    </tr>\n",
       "    <tr>\n",
       "      <th>1</th>\n",
       "      <td>NaN</td>\n",
       "      <td>NaN</td>\n",
       "      <td>NaN</td>\n",
       "      <td>64b689a8-bf03-47d2-a5cc-0723baeb1606</td>\n",
       "      <td>major</td>\n",
       "      <td>Haynes PLC</td>\n",
       "      <td>perfume</td>\n",
       "      <td>52.34</td>\n",
       "      <td>2</td>\n",
       "      <td>104.68</td>\n",
       "      <td>27/05/2020 14:20</td>\n",
       "      <td>1648 Brown Bridge Apt. 846\\nCaitlinland, MI 57992</td>\n",
       "      <td>Davidstad</td>\n",
       "      <td>Utah</td>\n",
       "      <td>China</td>\n",
       "      <td>50247</td>\n",
       "      <td>karen64@example.com</td>\n",
       "      <td>001-217-511-0290x8262</td>\n",
       "      <td>Credit Card</td>\n",
       "      <td>completed</td>\n",
       "    </tr>\n",
       "    <tr>\n",
       "      <th>2</th>\n",
       "      <td>e32af09a-b6ab-497e-af3a-331e4d4ed6e7</td>\n",
       "      <td>e0d6cb3c-c4b0-4cfe-8225-b65d094d2424</td>\n",
       "      <td>Dominic Buchanan</td>\n",
       "      <td>2ef6e8fa-6a36-4515-b1c2-a0a700abf386</td>\n",
       "      <td>despite</td>\n",
       "      <td>Lawson, Stone and Campos</td>\n",
       "      <td>perfume oil</td>\n",
       "      <td>250.57</td>\n",
       "      <td>2</td>\n",
       "      <td>501.14</td>\n",
       "      <td>06/03/2020 06:49</td>\n",
       "      <td>PSC 2224, Box 2284\\nAPO AP 65880</td>\n",
       "      <td>Jordanborough</td>\n",
       "      <td>Arkansas</td>\n",
       "      <td>Kuwait</td>\n",
       "      <td>27879</td>\n",
       "      <td>margaret97@example.com</td>\n",
       "      <td>259.603.6134</td>\n",
       "      <td>Debit Card</td>\n",
       "      <td>completed</td>\n",
       "    </tr>\n",
       "    <tr>\n",
       "      <th>3</th>\n",
       "      <td>86eb8859-14ab-4d4e-9267-c5826f4e0c8e</td>\n",
       "      <td>fa3ca35a-5540-404b-a7eb-9001cdcbd840</td>\n",
       "      <td>Daniel Allen</td>\n",
       "      <td>3ba38e01-f8e7-4af2-9246-87ef0961d4f5</td>\n",
       "      <td>sea</td>\n",
       "      <td>Washington Group</td>\n",
       "      <td>perfume oil</td>\n",
       "      <td>179.81</td>\n",
       "      <td>6</td>\n",
       "      <td>1078.86</td>\n",
       "      <td>31/07/2020 07:09</td>\n",
       "      <td>83909 Johnson Mall\\nTranberg, MS 99017</td>\n",
       "      <td>Lake Ginatown</td>\n",
       "      <td>Georgia</td>\n",
       "      <td>Saint Vincent and the Grenadines</td>\n",
       "      <td>39336</td>\n",
       "      <td>angela55@example.com</td>\n",
       "      <td>+1-869-659-4272x982</td>\n",
       "      <td>Credit Card</td>\n",
       "      <td>completed</td>\n",
       "    </tr>\n",
       "    <tr>\n",
       "      <th>4</th>\n",
       "      <td>7379b560-8897-4623-92a2-523ddcdc43a1</td>\n",
       "      <td>7ad4de53-e6d7-4cd3-99b8-13fb70fe7a34</td>\n",
       "      <td>Daniel Schmidt</td>\n",
       "      <td>a58c53bd-a34b-4541-b926-bec9eb84cac2</td>\n",
       "      <td>suddenly</td>\n",
       "      <td>Rodgers Ltd</td>\n",
       "      <td>perfume oil</td>\n",
       "      <td>600.55</td>\n",
       "      <td>7</td>\n",
       "      <td>4203.85</td>\n",
       "      <td>11/05/2021 04:33</td>\n",
       "      <td>82101 Johnson Flat\\nWest Ryan, MS 29075</td>\n",
       "      <td>Sarahville</td>\n",
       "      <td>Ohio</td>\n",
       "      <td>France</td>\n",
       "      <td>30845</td>\n",
       "      <td>wayne59@example.org</td>\n",
       "      <td>292.840.0975x724</td>\n",
       "      <td>PayPal</td>\n",
       "      <td>pending</td>\n",
       "    </tr>\n",
       "  </tbody>\n",
       "</table>\n",
       "</div>"
      ],
      "text/plain": [
       "                               Order_ID                           Customer_ID  \\\n",
       "0                                   NaN                                   NaN   \n",
       "1                                   NaN                                   NaN   \n",
       "2  e32af09a-b6ab-497e-af3a-331e4d4ed6e7  e0d6cb3c-c4b0-4cfe-8225-b65d094d2424   \n",
       "3  86eb8859-14ab-4d4e-9267-c5826f4e0c8e  fa3ca35a-5540-404b-a7eb-9001cdcbd840   \n",
       "4  7379b560-8897-4623-92a2-523ddcdc43a1  7ad4de53-e6d7-4cd3-99b8-13fb70fe7a34   \n",
       "\n",
       "      Customer_Name                            Product_ID Product_Name  \\\n",
       "0               NaN  64b689a8-bf03-47d2-a5cc-0723baeb1606        major   \n",
       "1               NaN  64b689a8-bf03-47d2-a5cc-0723baeb1606        major   \n",
       "2  Dominic Buchanan  2ef6e8fa-6a36-4515-b1c2-a0a700abf386      despite   \n",
       "3      Daniel Allen  3ba38e01-f8e7-4af2-9246-87ef0961d4f5          sea   \n",
       "4    Daniel Schmidt  a58c53bd-a34b-4541-b926-bec9eb84cac2     suddenly   \n",
       "\n",
       "                      Brand     Category   Price  Quantity  Total_Price  \\\n",
       "0                Haynes PLC      perfume   52.34         2       104.68   \n",
       "1                Haynes PLC      perfume   52.34         2       104.68   \n",
       "2  Lawson, Stone and Campos  perfume oil  250.57         2       501.14   \n",
       "3          Washington Group  perfume oil  179.81         6      1078.86   \n",
       "4               Rodgers Ltd  perfume oil  600.55         7      4203.85   \n",
       "\n",
       "         Order_Date                                   Shipping_Address  \\\n",
       "0  27/05/2020 14:20  1648 Brown Bridge Apt. 846\\nCaitlinland, MI 57992   \n",
       "1  27/05/2020 14:20  1648 Brown Bridge Apt. 846\\nCaitlinland, MI 57992   \n",
       "2  06/03/2020 06:49                   PSC 2224, Box 2284\\nAPO AP 65880   \n",
       "3  31/07/2020 07:09             83909 Johnson Mall\\nTranberg, MS 99017   \n",
       "4  11/05/2021 04:33            82101 Johnson Flat\\nWest Ryan, MS 29075   \n",
       "\n",
       "            City     State                           Country  Postal_Code  \\\n",
       "0      Davidstad      Utah                             China        50247   \n",
       "1      Davidstad      Utah                             China        50247   \n",
       "2  Jordanborough  Arkansas                            Kuwait        27879   \n",
       "3  Lake Ginatown   Georgia  Saint Vincent and the Grenadines        39336   \n",
       "4     Sarahville      Ohio                            France        30845   \n",
       "\n",
       "                    Email           Phone_Number Payment_Method  \\\n",
       "0     karen64@example.com  001-217-511-0290x8262    Credit Card   \n",
       "1     karen64@example.com  001-217-511-0290x8262    Credit Card   \n",
       "2  margaret97@example.com           259.603.6134     Debit Card   \n",
       "3    angela55@example.com    +1-869-659-4272x982    Credit Card   \n",
       "4     wayne59@example.org       292.840.0975x724         PayPal   \n",
       "\n",
       "  Transaction_Status  \n",
       "0          completed  \n",
       "1          completed  \n",
       "2          completed  \n",
       "3          completed  \n",
       "4            pending  "
      ]
     },
     "execution_count": 6,
     "metadata": {},
     "output_type": "execute_result"
    }
   ],
   "source": [
    "yanki_df.head()"
   ]
  },
  {
   "cell_type": "code",
   "execution_count": 7,
   "id": "216c4b9c",
   "metadata": {},
   "outputs": [
    {
     "name": "stdout",
     "output_type": "stream",
     "text": [
      "<class 'pandas.core.frame.DataFrame'>\n",
      "RangeIndex: 1020 entries, 0 to 1019\n",
      "Data columns (total 20 columns):\n",
      " #   Column              Non-Null Count  Dtype  \n",
      "---  ------              --------------  -----  \n",
      " 0   Order_ID            1000 non-null   object \n",
      " 1   Customer_ID         1000 non-null   object \n",
      " 2   Customer_Name       1000 non-null   object \n",
      " 3   Product_ID          1020 non-null   object \n",
      " 4   Product_Name        1020 non-null   object \n",
      " 5   Brand               1020 non-null   object \n",
      " 6   Category            1020 non-null   object \n",
      " 7   Price               1020 non-null   float64\n",
      " 8   Quantity            1020 non-null   int64  \n",
      " 9   Total_Price         1020 non-null   float64\n",
      " 10  Order_Date          1020 non-null   object \n",
      " 11  Shipping_Address    1020 non-null   object \n",
      " 12  City                1020 non-null   object \n",
      " 13  State               1019 non-null   object \n",
      " 14  Country             1020 non-null   object \n",
      " 15  Postal_Code         1020 non-null   int64  \n",
      " 16  Email               1020 non-null   object \n",
      " 17  Phone_Number        1020 non-null   object \n",
      " 18  Payment_Method      1020 non-null   object \n",
      " 19  Transaction_Status  1020 non-null   object \n",
      "dtypes: float64(2), int64(2), object(16)\n",
      "memory usage: 159.5+ KB\n"
     ]
    }
   ],
   "source": [
    "yanki_df.info()"
   ]
  },
  {
   "cell_type": "code",
   "execution_count": 8,
   "id": "19ed45c7",
   "metadata": {},
   "outputs": [
    {
     "data": {
      "text/plain": [
       "Index(['Order_ID', 'Customer_ID', 'Customer_Name', 'Product_ID',\n",
       "       'Product_Name', 'Brand', 'Category', 'Price', 'Quantity', 'Total_Price',\n",
       "       'Order_Date', 'Shipping_Address', 'City', 'State', 'Country',\n",
       "       'Postal_Code', 'Email', 'Phone_Number', 'Payment_Method',\n",
       "       'Transaction_Status'],\n",
       "      dtype='object')"
      ]
     },
     "execution_count": 8,
     "metadata": {},
     "output_type": "execute_result"
    }
   ],
   "source": [
    "yanki_df.columns"
   ]
  },
  {
   "cell_type": "markdown",
   "id": "d1d19666",
   "metadata": {},
   "source": [
    "DATA CLEANING AND TRANSFORMATION"
   ]
  },
  {
   "cell_type": "code",
   "execution_count": 9,
   "id": "7ca7c5ee",
   "metadata": {},
   "outputs": [],
   "source": [
    "# drop missing values\n",
    "yanki_df.dropna(subset=['Order_ID', 'Customer_ID'], inplace=True)"
   ]
  },
  {
   "cell_type": "code",
   "execution_count": 10,
   "id": "e76484c5",
   "metadata": {},
   "outputs": [
    {
     "name": "stdout",
     "output_type": "stream",
     "text": [
      "<class 'pandas.core.frame.DataFrame'>\n",
      "Int64Index: 1000 entries, 2 to 1019\n",
      "Data columns (total 20 columns):\n",
      " #   Column              Non-Null Count  Dtype  \n",
      "---  ------              --------------  -----  \n",
      " 0   Order_ID            1000 non-null   object \n",
      " 1   Customer_ID         1000 non-null   object \n",
      " 2   Customer_Name       1000 non-null   object \n",
      " 3   Product_ID          1000 non-null   object \n",
      " 4   Product_Name        1000 non-null   object \n",
      " 5   Brand               1000 non-null   object \n",
      " 6   Category            1000 non-null   object \n",
      " 7   Price               1000 non-null   float64\n",
      " 8   Quantity            1000 non-null   int64  \n",
      " 9   Total_Price         1000 non-null   float64\n",
      " 10  Order_Date          1000 non-null   object \n",
      " 11  Shipping_Address    1000 non-null   object \n",
      " 12  City                1000 non-null   object \n",
      " 13  State               999 non-null    object \n",
      " 14  Country             1000 non-null   object \n",
      " 15  Postal_Code         1000 non-null   int64  \n",
      " 16  Email               1000 non-null   object \n",
      " 17  Phone_Number        1000 non-null   object \n",
      " 18  Payment_Method      1000 non-null   object \n",
      " 19  Transaction_Status  1000 non-null   object \n",
      "dtypes: float64(2), int64(2), object(16)\n",
      "memory usage: 164.1+ KB\n"
     ]
    }
   ],
   "source": [
    "yanki_df.info()"
   ]
  },
  {
   "cell_type": "code",
   "execution_count": 11,
   "id": "6e2ebb87",
   "metadata": {},
   "outputs": [],
   "source": [
    "# Convert Order_date from string to datetime object \n",
    "yanki_df['Order_Date'] = pd.to_datetime(yanki_df['Order_Date'])"
   ]
  },
  {
   "cell_type": "code",
   "execution_count": 12,
   "id": "a28e2da4",
   "metadata": {},
   "outputs": [
    {
     "name": "stdout",
     "output_type": "stream",
     "text": [
      "<class 'pandas.core.frame.DataFrame'>\n",
      "Int64Index: 1000 entries, 2 to 1019\n",
      "Data columns (total 20 columns):\n",
      " #   Column              Non-Null Count  Dtype         \n",
      "---  ------              --------------  -----         \n",
      " 0   Order_ID            1000 non-null   object        \n",
      " 1   Customer_ID         1000 non-null   object        \n",
      " 2   Customer_Name       1000 non-null   object        \n",
      " 3   Product_ID          1000 non-null   object        \n",
      " 4   Product_Name        1000 non-null   object        \n",
      " 5   Brand               1000 non-null   object        \n",
      " 6   Category            1000 non-null   object        \n",
      " 7   Price               1000 non-null   float64       \n",
      " 8   Quantity            1000 non-null   int64         \n",
      " 9   Total_Price         1000 non-null   float64       \n",
      " 10  Order_Date          1000 non-null   datetime64[ns]\n",
      " 11  Shipping_Address    1000 non-null   object        \n",
      " 12  City                1000 non-null   object        \n",
      " 13  State               999 non-null    object        \n",
      " 14  Country             1000 non-null   object        \n",
      " 15  Postal_Code         1000 non-null   int64         \n",
      " 16  Email               1000 non-null   object        \n",
      " 17  Phone_Number        1000 non-null   object        \n",
      " 18  Payment_Method      1000 non-null   object        \n",
      " 19  Transaction_Status  1000 non-null   object        \n",
      "dtypes: datetime64[ns](1), float64(2), int64(2), object(15)\n",
      "memory usage: 164.1+ KB\n"
     ]
    }
   ],
   "source": [
    "yanki_df.info()"
   ]
  },
  {
   "cell_type": "code",
   "execution_count": 13,
   "id": "9fe0186c",
   "metadata": {},
   "outputs": [
    {
     "data": {
      "text/html": [
       "<div>\n",
       "<style scoped>\n",
       "    .dataframe tbody tr th:only-of-type {\n",
       "        vertical-align: middle;\n",
       "    }\n",
       "\n",
       "    .dataframe tbody tr th {\n",
       "        vertical-align: top;\n",
       "    }\n",
       "\n",
       "    .dataframe thead th {\n",
       "        text-align: right;\n",
       "    }\n",
       "</style>\n",
       "<table border=\"1\" class=\"dataframe\">\n",
       "  <thead>\n",
       "    <tr style=\"text-align: right;\">\n",
       "      <th></th>\n",
       "      <th>Customer_ID</th>\n",
       "      <th>Customer_Name</th>\n",
       "      <th>Email</th>\n",
       "      <th>Phone_Number</th>\n",
       "    </tr>\n",
       "  </thead>\n",
       "  <tbody>\n",
       "    <tr>\n",
       "      <th>0</th>\n",
       "      <td>e0d6cb3c-c4b0-4cfe-8225-b65d094d2424</td>\n",
       "      <td>Dominic Buchanan</td>\n",
       "      <td>margaret97@example.com</td>\n",
       "      <td>259.603.6134</td>\n",
       "    </tr>\n",
       "    <tr>\n",
       "      <th>1</th>\n",
       "      <td>fa3ca35a-5540-404b-a7eb-9001cdcbd840</td>\n",
       "      <td>Daniel Allen</td>\n",
       "      <td>angela55@example.com</td>\n",
       "      <td>+1-869-659-4272x982</td>\n",
       "    </tr>\n",
       "    <tr>\n",
       "      <th>2</th>\n",
       "      <td>7ad4de53-e6d7-4cd3-99b8-13fb70fe7a34</td>\n",
       "      <td>Daniel Schmidt</td>\n",
       "      <td>wayne59@example.org</td>\n",
       "      <td>292.840.0975x724</td>\n",
       "    </tr>\n",
       "    <tr>\n",
       "      <th>3</th>\n",
       "      <td>4b9b409c-19f2-41c0-bc7c-6556e0647ebb</td>\n",
       "      <td>John Gonzalez</td>\n",
       "      <td>qsherman@example.com</td>\n",
       "      <td>+1-643-561-3912x262</td>\n",
       "    </tr>\n",
       "    <tr>\n",
       "      <th>4</th>\n",
       "      <td>81b513ad-5c02-48cf-bff0-39e1440c4d22</td>\n",
       "      <td>Amber Benitez</td>\n",
       "      <td>derek85@example.com</td>\n",
       "      <td>3424148376</td>\n",
       "    </tr>\n",
       "  </tbody>\n",
       "</table>\n",
       "</div>"
      ],
      "text/plain": [
       "                            Customer_ID     Customer_Name  \\\n",
       "0  e0d6cb3c-c4b0-4cfe-8225-b65d094d2424  Dominic Buchanan   \n",
       "1  fa3ca35a-5540-404b-a7eb-9001cdcbd840      Daniel Allen   \n",
       "2  7ad4de53-e6d7-4cd3-99b8-13fb70fe7a34    Daniel Schmidt   \n",
       "3  4b9b409c-19f2-41c0-bc7c-6556e0647ebb     John Gonzalez   \n",
       "4  81b513ad-5c02-48cf-bff0-39e1440c4d22     Amber Benitez   \n",
       "\n",
       "                    Email         Phone_Number  \n",
       "0  margaret97@example.com         259.603.6134  \n",
       "1    angela55@example.com  +1-869-659-4272x982  \n",
       "2     wayne59@example.org     292.840.0975x724  \n",
       "3    qsherman@example.com  +1-643-561-3912x262  \n",
       "4     derek85@example.com           3424148376  "
      ]
     },
     "execution_count": 13,
     "metadata": {},
     "output_type": "execute_result"
    }
   ],
   "source": [
    "# Customer table\n",
    "customer_df = yanki_df[['Customer_ID', 'Customer_Name','Email', 'Phone_Number']].copy().drop_duplicates().reset_index(drop=True)\n",
    "customer_df.head()\n"
   ]
  },
  {
   "cell_type": "code",
   "execution_count": 14,
   "id": "7b8ef3b9",
   "metadata": {},
   "outputs": [
    {
     "data": {
      "text/html": [
       "<div>\n",
       "<style scoped>\n",
       "    .dataframe tbody tr th:only-of-type {\n",
       "        vertical-align: middle;\n",
       "    }\n",
       "\n",
       "    .dataframe tbody tr th {\n",
       "        vertical-align: top;\n",
       "    }\n",
       "\n",
       "    .dataframe thead th {\n",
       "        text-align: right;\n",
       "    }\n",
       "</style>\n",
       "<table border=\"1\" class=\"dataframe\">\n",
       "  <thead>\n",
       "    <tr style=\"text-align: right;\">\n",
       "      <th></th>\n",
       "      <th>Product_ID</th>\n",
       "      <th>Product_Name</th>\n",
       "      <th>Brand</th>\n",
       "      <th>Category</th>\n",
       "      <th>Price</th>\n",
       "    </tr>\n",
       "  </thead>\n",
       "  <tbody>\n",
       "    <tr>\n",
       "      <th>0</th>\n",
       "      <td>2ef6e8fa-6a36-4515-b1c2-a0a700abf386</td>\n",
       "      <td>despite</td>\n",
       "      <td>Lawson, Stone and Campos</td>\n",
       "      <td>perfume oil</td>\n",
       "      <td>250.57</td>\n",
       "    </tr>\n",
       "    <tr>\n",
       "      <th>1</th>\n",
       "      <td>3ba38e01-f8e7-4af2-9246-87ef0961d4f5</td>\n",
       "      <td>sea</td>\n",
       "      <td>Washington Group</td>\n",
       "      <td>perfume oil</td>\n",
       "      <td>179.81</td>\n",
       "    </tr>\n",
       "    <tr>\n",
       "      <th>2</th>\n",
       "      <td>a58c53bd-a34b-4541-b926-bec9eb84cac2</td>\n",
       "      <td>suddenly</td>\n",
       "      <td>Rodgers Ltd</td>\n",
       "      <td>perfume oil</td>\n",
       "      <td>600.55</td>\n",
       "    </tr>\n",
       "    <tr>\n",
       "      <th>3</th>\n",
       "      <td>e6021be5-90be-4199-b6c6-82542fb2973c</td>\n",
       "      <td>site</td>\n",
       "      <td>Wilson, Scott and Johnson</td>\n",
       "      <td>perfume oil</td>\n",
       "      <td>414.36</td>\n",
       "    </tr>\n",
       "    <tr>\n",
       "      <th>4</th>\n",
       "      <td>60127671-ab32-4fb5-bfeb-1a7782ad835e</td>\n",
       "      <td>act</td>\n",
       "      <td>Riddle, Alvarez and Robinson</td>\n",
       "      <td>perfume</td>\n",
       "      <td>704.05</td>\n",
       "    </tr>\n",
       "  </tbody>\n",
       "</table>\n",
       "</div>"
      ],
      "text/plain": [
       "                             Product_ID Product_Name  \\\n",
       "0  2ef6e8fa-6a36-4515-b1c2-a0a700abf386      despite   \n",
       "1  3ba38e01-f8e7-4af2-9246-87ef0961d4f5          sea   \n",
       "2  a58c53bd-a34b-4541-b926-bec9eb84cac2     suddenly   \n",
       "3  e6021be5-90be-4199-b6c6-82542fb2973c         site   \n",
       "4  60127671-ab32-4fb5-bfeb-1a7782ad835e          act   \n",
       "\n",
       "                          Brand     Category   Price  \n",
       "0      Lawson, Stone and Campos  perfume oil  250.57  \n",
       "1              Washington Group  perfume oil  179.81  \n",
       "2                   Rodgers Ltd  perfume oil  600.55  \n",
       "3     Wilson, Scott and Johnson  perfume oil  414.36  \n",
       "4  Riddle, Alvarez and Robinson      perfume  704.05  "
      ]
     },
     "execution_count": 14,
     "metadata": {},
     "output_type": "execute_result"
    }
   ],
   "source": [
    "# products table\n",
    "products_df = yanki_df[['Product_ID', 'Product_Name', 'Brand', 'Category', 'Price']].copy().drop_duplicates().reset_index(drop=True)\n",
    "products_df.head()"
   ]
  },
  {
   "cell_type": "code",
   "execution_count": 15,
   "id": "a26d4168",
   "metadata": {},
   "outputs": [
    {
     "data": {
      "text/html": [
       "<div>\n",
       "<style scoped>\n",
       "    .dataframe tbody tr th:only-of-type {\n",
       "        vertical-align: middle;\n",
       "    }\n",
       "\n",
       "    .dataframe tbody tr th {\n",
       "        vertical-align: top;\n",
       "    }\n",
       "\n",
       "    .dataframe thead th {\n",
       "        text-align: right;\n",
       "    }\n",
       "</style>\n",
       "<table border=\"1\" class=\"dataframe\">\n",
       "  <thead>\n",
       "    <tr style=\"text-align: right;\">\n",
       "      <th></th>\n",
       "      <th>shipping_ID</th>\n",
       "      <th>Customer_ID</th>\n",
       "      <th>Shipping_Address</th>\n",
       "      <th>City</th>\n",
       "      <th>State</th>\n",
       "      <th>Country</th>\n",
       "      <th>Postal_Code</th>\n",
       "    </tr>\n",
       "  </thead>\n",
       "  <tbody>\n",
       "    <tr>\n",
       "      <th>0</th>\n",
       "      <td>2</td>\n",
       "      <td>e0d6cb3c-c4b0-4cfe-8225-b65d094d2424</td>\n",
       "      <td>PSC 2224, Box 2284\\nAPO AP 65880</td>\n",
       "      <td>Jordanborough</td>\n",
       "      <td>Arkansas</td>\n",
       "      <td>Kuwait</td>\n",
       "      <td>27879</td>\n",
       "    </tr>\n",
       "    <tr>\n",
       "      <th>1</th>\n",
       "      <td>3</td>\n",
       "      <td>fa3ca35a-5540-404b-a7eb-9001cdcbd840</td>\n",
       "      <td>83909 Johnson Mall\\nTranberg, MS 99017</td>\n",
       "      <td>Lake Ginatown</td>\n",
       "      <td>Georgia</td>\n",
       "      <td>Saint Vincent and the Grenadines</td>\n",
       "      <td>39336</td>\n",
       "    </tr>\n",
       "    <tr>\n",
       "      <th>2</th>\n",
       "      <td>4</td>\n",
       "      <td>7ad4de53-e6d7-4cd3-99b8-13fb70fe7a34</td>\n",
       "      <td>82101 Johnson Flat\\nWest Ryan, MS 29075</td>\n",
       "      <td>Sarahville</td>\n",
       "      <td>Ohio</td>\n",
       "      <td>France</td>\n",
       "      <td>30845</td>\n",
       "    </tr>\n",
       "    <tr>\n",
       "      <th>3</th>\n",
       "      <td>5</td>\n",
       "      <td>4b9b409c-19f2-41c0-bc7c-6556e0647ebb</td>\n",
       "      <td>4542 Gary Lane\\nSouth Alexander, VI 27671</td>\n",
       "      <td>Lake Michelle</td>\n",
       "      <td>Arkansas</td>\n",
       "      <td>Sao Tome and Principe</td>\n",
       "      <td>30955</td>\n",
       "    </tr>\n",
       "    <tr>\n",
       "      <th>4</th>\n",
       "      <td>6</td>\n",
       "      <td>81b513ad-5c02-48cf-bff0-39e1440c4d22</td>\n",
       "      <td>6794 Caroline Crescent\\nEast Karlside, GU 81379</td>\n",
       "      <td>Olsenville</td>\n",
       "      <td>Mississippi</td>\n",
       "      <td>Croatia</td>\n",
       "      <td>45429</td>\n",
       "    </tr>\n",
       "  </tbody>\n",
       "</table>\n",
       "</div>"
      ],
      "text/plain": [
       "   shipping_ID                           Customer_ID  \\\n",
       "0            2  e0d6cb3c-c4b0-4cfe-8225-b65d094d2424   \n",
       "1            3  fa3ca35a-5540-404b-a7eb-9001cdcbd840   \n",
       "2            4  7ad4de53-e6d7-4cd3-99b8-13fb70fe7a34   \n",
       "3            5  4b9b409c-19f2-41c0-bc7c-6556e0647ebb   \n",
       "4            6  81b513ad-5c02-48cf-bff0-39e1440c4d22   \n",
       "\n",
       "                                  Shipping_Address           City  \\\n",
       "0                 PSC 2224, Box 2284\\nAPO AP 65880  Jordanborough   \n",
       "1           83909 Johnson Mall\\nTranberg, MS 99017  Lake Ginatown   \n",
       "2          82101 Johnson Flat\\nWest Ryan, MS 29075     Sarahville   \n",
       "3        4542 Gary Lane\\nSouth Alexander, VI 27671  Lake Michelle   \n",
       "4  6794 Caroline Crescent\\nEast Karlside, GU 81379     Olsenville   \n",
       "\n",
       "         State                           Country  Postal_Code  \n",
       "0     Arkansas                            Kuwait        27879  \n",
       "1      Georgia  Saint Vincent and the Grenadines        39336  \n",
       "2         Ohio                            France        30845  \n",
       "3     Arkansas             Sao Tome and Principe        30955  \n",
       "4  Mississippi                           Croatia        45429  "
      ]
     },
     "execution_count": 15,
     "metadata": {},
     "output_type": "execute_result"
    }
   ],
   "source": [
    "# shipping address \n",
    "shipping_address_df = yanki_df[['Customer_ID', 'Shipping_Address', 'City', 'State', 'Country', 'Postal_Code']]\n",
    "\n",
    "shipping_address_df.index.name = 'shipping_ID'\n",
    "shipping_address_df = shipping_address_df.reset_index()\n",
    "\n",
    "shipping_address_df.head()"
   ]
  },
  {
   "cell_type": "code",
   "execution_count": 16,
   "id": "dcfc9a58",
   "metadata": {},
   "outputs": [
    {
     "data": {
      "text/html": [
       "<div>\n",
       "<style scoped>\n",
       "    .dataframe tbody tr th:only-of-type {\n",
       "        vertical-align: middle;\n",
       "    }\n",
       "\n",
       "    .dataframe tbody tr th {\n",
       "        vertical-align: top;\n",
       "    }\n",
       "\n",
       "    .dataframe thead th {\n",
       "        text-align: right;\n",
       "    }\n",
       "</style>\n",
       "<table border=\"1\" class=\"dataframe\">\n",
       "  <thead>\n",
       "    <tr style=\"text-align: right;\">\n",
       "      <th></th>\n",
       "      <th>Customer_ID</th>\n",
       "      <th>Shipping_Address</th>\n",
       "      <th>City</th>\n",
       "      <th>State</th>\n",
       "      <th>Country</th>\n",
       "      <th>Postal_Code</th>\n",
       "    </tr>\n",
       "    <tr>\n",
       "      <th>shipping_ID</th>\n",
       "      <th></th>\n",
       "      <th></th>\n",
       "      <th></th>\n",
       "      <th></th>\n",
       "      <th></th>\n",
       "      <th></th>\n",
       "    </tr>\n",
       "  </thead>\n",
       "  <tbody>\n",
       "    <tr>\n",
       "      <th>2</th>\n",
       "      <td>e0d6cb3c-c4b0-4cfe-8225-b65d094d2424</td>\n",
       "      <td>PSC 2224, Box 2284\\nAPO AP 65880</td>\n",
       "      <td>Jordanborough</td>\n",
       "      <td>Arkansas</td>\n",
       "      <td>Kuwait</td>\n",
       "      <td>27879</td>\n",
       "    </tr>\n",
       "    <tr>\n",
       "      <th>3</th>\n",
       "      <td>fa3ca35a-5540-404b-a7eb-9001cdcbd840</td>\n",
       "      <td>83909 Johnson Mall\\nTranberg, MS 99017</td>\n",
       "      <td>Lake Ginatown</td>\n",
       "      <td>Georgia</td>\n",
       "      <td>Saint Vincent and the Grenadines</td>\n",
       "      <td>39336</td>\n",
       "    </tr>\n",
       "    <tr>\n",
       "      <th>4</th>\n",
       "      <td>7ad4de53-e6d7-4cd3-99b8-13fb70fe7a34</td>\n",
       "      <td>82101 Johnson Flat\\nWest Ryan, MS 29075</td>\n",
       "      <td>Sarahville</td>\n",
       "      <td>Ohio</td>\n",
       "      <td>France</td>\n",
       "      <td>30845</td>\n",
       "    </tr>\n",
       "    <tr>\n",
       "      <th>5</th>\n",
       "      <td>4b9b409c-19f2-41c0-bc7c-6556e0647ebb</td>\n",
       "      <td>4542 Gary Lane\\nSouth Alexander, VI 27671</td>\n",
       "      <td>Lake Michelle</td>\n",
       "      <td>Arkansas</td>\n",
       "      <td>Sao Tome and Principe</td>\n",
       "      <td>30955</td>\n",
       "    </tr>\n",
       "    <tr>\n",
       "      <th>6</th>\n",
       "      <td>81b513ad-5c02-48cf-bff0-39e1440c4d22</td>\n",
       "      <td>6794 Caroline Crescent\\nEast Karlside, GU 81379</td>\n",
       "      <td>Olsenville</td>\n",
       "      <td>Mississippi</td>\n",
       "      <td>Croatia</td>\n",
       "      <td>45429</td>\n",
       "    </tr>\n",
       "  </tbody>\n",
       "</table>\n",
       "</div>"
      ],
      "text/plain": [
       "                                      Customer_ID  \\\n",
       "shipping_ID                                         \n",
       "2            e0d6cb3c-c4b0-4cfe-8225-b65d094d2424   \n",
       "3            fa3ca35a-5540-404b-a7eb-9001cdcbd840   \n",
       "4            7ad4de53-e6d7-4cd3-99b8-13fb70fe7a34   \n",
       "5            4b9b409c-19f2-41c0-bc7c-6556e0647ebb   \n",
       "6            81b513ad-5c02-48cf-bff0-39e1440c4d22   \n",
       "\n",
       "                                            Shipping_Address           City  \\\n",
       "shipping_ID                                                                   \n",
       "2                           PSC 2224, Box 2284\\nAPO AP 65880  Jordanborough   \n",
       "3                     83909 Johnson Mall\\nTranberg, MS 99017  Lake Ginatown   \n",
       "4                    82101 Johnson Flat\\nWest Ryan, MS 29075     Sarahville   \n",
       "5                  4542 Gary Lane\\nSouth Alexander, VI 27671  Lake Michelle   \n",
       "6            6794 Caroline Crescent\\nEast Karlside, GU 81379     Olsenville   \n",
       "\n",
       "                   State                           Country  Postal_Code  \n",
       "shipping_ID                                                              \n",
       "2               Arkansas                            Kuwait        27879  \n",
       "3                Georgia  Saint Vincent and the Grenadines        39336  \n",
       "4                   Ohio                            France        30845  \n",
       "5               Arkansas             Sao Tome and Principe        30955  \n",
       "6            Mississippi                           Croatia        45429  "
      ]
     },
     "execution_count": 16,
     "metadata": {},
     "output_type": "execute_result"
    }
   ],
   "source": [
    "# shipping address \n",
    "shipping_address_df = yanki_df[['Customer_ID', 'Shipping_Address', 'City', 'State', 'Country', 'Postal_Code']]\n",
    "\n",
    "shipping_address_df.index.name = 'shipping_ID'\n",
    "#shipping_address_df = shipping_address_df.reset_index()\n",
    "\n",
    "shipping_address_df.head()"
   ]
  },
  {
   "cell_type": "code",
   "execution_count": 17,
   "id": "6cab8951",
   "metadata": {},
   "outputs": [
    {
     "data": {
      "text/html": [
       "<div>\n",
       "<style scoped>\n",
       "    .dataframe tbody tr th:only-of-type {\n",
       "        vertical-align: middle;\n",
       "    }\n",
       "\n",
       "    .dataframe tbody tr th {\n",
       "        vertical-align: top;\n",
       "    }\n",
       "\n",
       "    .dataframe thead th {\n",
       "        text-align: right;\n",
       "    }\n",
       "</style>\n",
       "<table border=\"1\" class=\"dataframe\">\n",
       "  <thead>\n",
       "    <tr style=\"text-align: right;\">\n",
       "      <th></th>\n",
       "      <th>Order_ID</th>\n",
       "      <th>Customer_ID</th>\n",
       "      <th>Product_ID</th>\n",
       "      <th>Quantity</th>\n",
       "      <th>Total_Price</th>\n",
       "      <th>Order_Date</th>\n",
       "    </tr>\n",
       "  </thead>\n",
       "  <tbody>\n",
       "    <tr>\n",
       "      <th>0</th>\n",
       "      <td>e32af09a-b6ab-497e-af3a-331e4d4ed6e7</td>\n",
       "      <td>e0d6cb3c-c4b0-4cfe-8225-b65d094d2424</td>\n",
       "      <td>2ef6e8fa-6a36-4515-b1c2-a0a700abf386</td>\n",
       "      <td>2</td>\n",
       "      <td>501.14</td>\n",
       "      <td>2020-06-03 06:49:00</td>\n",
       "    </tr>\n",
       "    <tr>\n",
       "      <th>1</th>\n",
       "      <td>86eb8859-14ab-4d4e-9267-c5826f4e0c8e</td>\n",
       "      <td>fa3ca35a-5540-404b-a7eb-9001cdcbd840</td>\n",
       "      <td>3ba38e01-f8e7-4af2-9246-87ef0961d4f5</td>\n",
       "      <td>6</td>\n",
       "      <td>1078.86</td>\n",
       "      <td>2020-07-31 07:09:00</td>\n",
       "    </tr>\n",
       "    <tr>\n",
       "      <th>2</th>\n",
       "      <td>7379b560-8897-4623-92a2-523ddcdc43a1</td>\n",
       "      <td>7ad4de53-e6d7-4cd3-99b8-13fb70fe7a34</td>\n",
       "      <td>a58c53bd-a34b-4541-b926-bec9eb84cac2</td>\n",
       "      <td>7</td>\n",
       "      <td>4203.85</td>\n",
       "      <td>2021-11-05 04:33:00</td>\n",
       "    </tr>\n",
       "    <tr>\n",
       "      <th>3</th>\n",
       "      <td>30c57f86-2fed-43c0-a399-654c2c3bb18d</td>\n",
       "      <td>4b9b409c-19f2-41c0-bc7c-6556e0647ebb</td>\n",
       "      <td>e6021be5-90be-4199-b6c6-82542fb2973c</td>\n",
       "      <td>9</td>\n",
       "      <td>3729.24</td>\n",
       "      <td>2023-12-09 01:47:00</td>\n",
       "    </tr>\n",
       "    <tr>\n",
       "      <th>4</th>\n",
       "      <td>41c29d81-9622-43c1-b537-7cdb320d3e6a</td>\n",
       "      <td>81b513ad-5c02-48cf-bff0-39e1440c4d22</td>\n",
       "      <td>60127671-ab32-4fb5-bfeb-1a7782ad835e</td>\n",
       "      <td>9</td>\n",
       "      <td>6336.45</td>\n",
       "      <td>2021-08-20 18:02:00</td>\n",
       "    </tr>\n",
       "  </tbody>\n",
       "</table>\n",
       "</div>"
      ],
      "text/plain": [
       "                               Order_ID                           Customer_ID  \\\n",
       "0  e32af09a-b6ab-497e-af3a-331e4d4ed6e7  e0d6cb3c-c4b0-4cfe-8225-b65d094d2424   \n",
       "1  86eb8859-14ab-4d4e-9267-c5826f4e0c8e  fa3ca35a-5540-404b-a7eb-9001cdcbd840   \n",
       "2  7379b560-8897-4623-92a2-523ddcdc43a1  7ad4de53-e6d7-4cd3-99b8-13fb70fe7a34   \n",
       "3  30c57f86-2fed-43c0-a399-654c2c3bb18d  4b9b409c-19f2-41c0-bc7c-6556e0647ebb   \n",
       "4  41c29d81-9622-43c1-b537-7cdb320d3e6a  81b513ad-5c02-48cf-bff0-39e1440c4d22   \n",
       "\n",
       "                             Product_ID  Quantity  Total_Price  \\\n",
       "0  2ef6e8fa-6a36-4515-b1c2-a0a700abf386         2       501.14   \n",
       "1  3ba38e01-f8e7-4af2-9246-87ef0961d4f5         6      1078.86   \n",
       "2  a58c53bd-a34b-4541-b926-bec9eb84cac2         7      4203.85   \n",
       "3  e6021be5-90be-4199-b6c6-82542fb2973c         9      3729.24   \n",
       "4  60127671-ab32-4fb5-bfeb-1a7782ad835e         9      6336.45   \n",
       "\n",
       "           Order_Date  \n",
       "0 2020-06-03 06:49:00  \n",
       "1 2020-07-31 07:09:00  \n",
       "2 2021-11-05 04:33:00  \n",
       "3 2023-12-09 01:47:00  \n",
       "4 2021-08-20 18:02:00  "
      ]
     },
     "execution_count": 17,
     "metadata": {},
     "output_type": "execute_result"
    }
   ],
   "source": [
    "# Order table\n",
    "orders_df = yanki_df[['Order_ID', 'Customer_ID', 'Product_ID', 'Quantity', 'Total_Price', 'Order_Date']].copy().drop_duplicates().reset_index(drop=True)\n",
    "\n",
    "orders_df.head()"
   ]
  },
  {
   "cell_type": "code",
   "execution_count": 18,
   "id": "41c76469",
   "metadata": {},
   "outputs": [
    {
     "data": {
      "text/plain": [
       "Index(['Order_ID', 'Customer_ID', 'Customer_Name', 'Product_ID',\n",
       "       'Product_Name', 'Brand', 'Category', 'Price', 'Quantity', 'Total_Price',\n",
       "       'Order_Date', 'Shipping_Address', 'City', 'State', 'Country',\n",
       "       'Postal_Code', 'Email', 'Phone_Number', 'Payment_Method',\n",
       "       'Transaction_Status'],\n",
       "      dtype='object')"
      ]
     },
     "execution_count": 18,
     "metadata": {},
     "output_type": "execute_result"
    }
   ],
   "source": [
    "yanki_df.columns"
   ]
  },
  {
   "cell_type": "code",
   "execution_count": null,
   "id": "de4885af",
   "metadata": {},
   "outputs": [
    {
     "data": {
      "text/html": [
       "<div>\n",
       "<style scoped>\n",
       "    .dataframe tbody tr th:only-of-type {\n",
       "        vertical-align: middle;\n",
       "    }\n",
       "\n",
       "    .dataframe tbody tr th {\n",
       "        vertical-align: top;\n",
       "    }\n",
       "\n",
       "    .dataframe thead th {\n",
       "        text-align: right;\n",
       "    }\n",
       "</style>\n",
       "<table border=\"1\" class=\"dataframe\">\n",
       "  <thead>\n",
       "    <tr style=\"text-align: right;\">\n",
       "      <th></th>\n",
       "      <th>Order_ID</th>\n",
       "      <th>Payment_Method</th>\n",
       "      <th>Transaction_Status</th>\n",
       "    </tr>\n",
       "  </thead>\n",
       "  <tbody>\n",
       "    <tr>\n",
       "      <th>0</th>\n",
       "      <td>e32af09a-b6ab-497e-af3a-331e4d4ed6e7</td>\n",
       "      <td>Debit Card</td>\n",
       "      <td>completed</td>\n",
       "    </tr>\n",
       "    <tr>\n",
       "      <th>1</th>\n",
       "      <td>86eb8859-14ab-4d4e-9267-c5826f4e0c8e</td>\n",
       "      <td>Credit Card</td>\n",
       "      <td>completed</td>\n",
       "    </tr>\n",
       "    <tr>\n",
       "      <th>2</th>\n",
       "      <td>7379b560-8897-4623-92a2-523ddcdc43a1</td>\n",
       "      <td>PayPal</td>\n",
       "      <td>pending</td>\n",
       "    </tr>\n",
       "    <tr>\n",
       "      <th>3</th>\n",
       "      <td>30c57f86-2fed-43c0-a399-654c2c3bb18d</td>\n",
       "      <td>PayPal</td>\n",
       "      <td>completed</td>\n",
       "    </tr>\n",
       "    <tr>\n",
       "      <th>4</th>\n",
       "      <td>41c29d81-9622-43c1-b537-7cdb320d3e6a</td>\n",
       "      <td>PayPal</td>\n",
       "      <td>pending</td>\n",
       "    </tr>\n",
       "  </tbody>\n",
       "</table>\n",
       "</div>"
      ],
      "text/plain": [
       "                               Order_ID Payment_Method Transaction_Status\n",
       "0  e32af09a-b6ab-497e-af3a-331e4d4ed6e7     Debit Card          completed\n",
       "1  86eb8859-14ab-4d4e-9267-c5826f4e0c8e    Credit Card          completed\n",
       "2  7379b560-8897-4623-92a2-523ddcdc43a1         PayPal            pending\n",
       "3  30c57f86-2fed-43c0-a399-654c2c3bb18d         PayPal          completed\n",
       "4  41c29d81-9622-43c1-b537-7cdb320d3e6a         PayPal            pending"
      ]
     },
     "execution_count": 19,
     "metadata": {},
     "output_type": "execute_result"
    }
   ],
   "source": [
    "# payment_method_df \n",
    "payment_method_df = yanki_df[['Order_ID','Payment_Method', 'Transaction_Status']].copy().drop_duplicates().reset_index(drop=True)\n",
    "\n",
    "payment_method_df.head()"
   ]
  },
  {
   "cell_type": "code",
   "execution_count": 20,
   "id": "65930634",
   "metadata": {},
   "outputs": [],
   "source": [
    "# save the tables to csv\n",
    "\n",
    "customer_df.to_csv(r'dataset/cleaneddata/customers.csv', index=False)\n",
    "products_df.to_csv(r'dataset/cleaneddata/products.csv', index=False)\n",
    "orders_df.to_csv(r'dataset/cleaneddata/orders.csv', index=False)\n",
    "shipping_address_df.to_csv(r'dataset/cleaneddata/shipping_address_df.csv', index=False)\n",
    "payment_method_df.to_csv(r'dataset/cleaneddata/payment_method_df.csv', index=False)"
   ]
  },
  {
   "cell_type": "code",
   "execution_count": null,
   "id": "150755d6",
   "metadata": {},
   "outputs": [],
   "source": []
  },
  {
   "cell_type": "code",
   "execution_count": null,
   "id": "465c2676",
   "metadata": {},
   "outputs": [],
   "source": []
  },
  {
   "cell_type": "code",
   "execution_count": null,
   "id": "08214098",
   "metadata": {},
   "outputs": [],
   "source": []
  },
  {
   "cell_type": "code",
   "execution_count": null,
   "id": "ff0a7dda",
   "metadata": {},
   "outputs": [],
   "source": []
  },
  {
   "cell_type": "code",
   "execution_count": null,
   "id": "8fea772d",
   "metadata": {},
   "outputs": [],
   "source": []
  },
  {
   "cell_type": "code",
   "execution_count": null,
   "id": "b0e487aa",
   "metadata": {},
   "outputs": [],
   "source": []
  },
  {
   "cell_type": "code",
   "execution_count": null,
   "id": "91810c79",
   "metadata": {},
   "outputs": [],
   "source": []
  },
  {
   "cell_type": "code",
   "execution_count": null,
   "id": "dbe493d7",
   "metadata": {},
   "outputs": [],
   "source": []
  },
  {
   "cell_type": "code",
   "execution_count": null,
   "id": "b7c8ba76",
   "metadata": {},
   "outputs": [],
   "source": []
  },
  {
   "cell_type": "code",
   "execution_count": null,
   "id": "56350c58",
   "metadata": {},
   "outputs": [],
   "source": []
  },
  {
   "cell_type": "code",
   "execution_count": null,
   "id": "01fc3328",
   "metadata": {},
   "outputs": [],
   "source": []
  },
  {
   "cell_type": "code",
   "execution_count": null,
   "id": "91c97276",
   "metadata": {},
   "outputs": [],
   "source": []
  },
  {
   "cell_type": "code",
   "execution_count": null,
   "id": "8a63d8ff",
   "metadata": {},
   "outputs": [],
   "source": []
  },
  {
   "cell_type": "code",
   "execution_count": null,
   "id": "d4c6a8d1",
   "metadata": {},
   "outputs": [],
   "source": []
  },
  {
   "cell_type": "code",
   "execution_count": null,
   "id": "74168826",
   "metadata": {},
   "outputs": [],
   "source": []
  },
  {
   "cell_type": "markdown",
   "id": "8086e833",
   "metadata": {},
   "source": []
  },
  {
   "cell_type": "markdown",
   "id": "d4d883ad",
   "metadata": {},
   "source": []
  },
  {
   "cell_type": "markdown",
   "id": "9c1814d6",
   "metadata": {},
   "source": []
  },
  {
   "cell_type": "markdown",
   "id": "3ab5f6d0",
   "metadata": {},
   "source": []
  },
  {
   "cell_type": "code",
   "execution_count": null,
   "id": "f873400a",
   "metadata": {},
   "outputs": [],
   "source": []
  },
  {
   "cell_type": "code",
   "execution_count": null,
   "id": "60bbf13c",
   "metadata": {},
   "outputs": [],
   "source": []
  },
  {
   "cell_type": "code",
   "execution_count": null,
   "id": "3fbd43ba",
   "metadata": {},
   "outputs": [],
   "source": []
  },
  {
   "cell_type": "code",
   "execution_count": null,
   "id": "8f89859b",
   "metadata": {},
   "outputs": [],
   "source": []
  },
  {
   "cell_type": "code",
   "execution_count": null,
   "id": "202028ea",
   "metadata": {},
   "outputs": [],
   "source": []
  },
  {
   "cell_type": "code",
   "execution_count": null,
   "id": "76d4711c",
   "metadata": {},
   "outputs": [],
   "source": []
  },
  {
   "cell_type": "code",
   "execution_count": null,
   "id": "85cb1bc1",
   "metadata": {},
   "outputs": [],
   "source": []
  },
  {
   "cell_type": "code",
   "execution_count": null,
   "id": "d259f551",
   "metadata": {},
   "outputs": [],
   "source": []
  },
  {
   "cell_type": "markdown",
   "id": "f4b84f05",
   "metadata": {},
   "source": []
  },
  {
   "cell_type": "markdown",
   "id": "b44adce8",
   "metadata": {},
   "source": []
  },
  {
   "cell_type": "markdown",
   "id": "4902937b",
   "metadata": {},
   "source": []
  },
  {
   "cell_type": "code",
   "execution_count": null,
   "id": "74300a53",
   "metadata": {},
   "outputs": [],
   "source": []
  },
  {
   "cell_type": "code",
   "execution_count": null,
   "id": "f6e2faf3",
   "metadata": {},
   "outputs": [],
   "source": []
  },
  {
   "cell_type": "code",
   "execution_count": null,
   "id": "8d08322c",
   "metadata": {},
   "outputs": [],
   "source": []
  },
  {
   "cell_type": "code",
   "execution_count": null,
   "id": "a668194c",
   "metadata": {},
   "outputs": [],
   "source": []
  },
  {
   "cell_type": "code",
   "execution_count": null,
   "id": "29b85313",
   "metadata": {},
   "outputs": [],
   "source": []
  },
  {
   "cell_type": "code",
   "execution_count": null,
   "id": "945289d4",
   "metadata": {},
   "outputs": [],
   "source": []
  },
  {
   "cell_type": "code",
   "execution_count": null,
   "id": "7fd9fc4b",
   "metadata": {},
   "outputs": [],
   "source": []
  },
  {
   "cell_type": "code",
   "execution_count": null,
   "id": "0ff349ac",
   "metadata": {},
   "outputs": [],
   "source": []
  },
  {
   "cell_type": "code",
   "execution_count": null,
   "id": "f4e8a1a2",
   "metadata": {},
   "outputs": [],
   "source": []
  },
  {
   "cell_type": "code",
   "execution_count": null,
   "id": "01fc0dae",
   "metadata": {},
   "outputs": [],
   "source": []
  },
  {
   "cell_type": "code",
   "execution_count": null,
   "id": "a970e457",
   "metadata": {},
   "outputs": [],
   "source": []
  },
  {
   "cell_type": "code",
   "execution_count": null,
   "id": "9ce68a7e",
   "metadata": {},
   "outputs": [],
   "source": []
  },
  {
   "cell_type": "code",
   "execution_count": null,
   "id": "2813ba59",
   "metadata": {},
   "outputs": [],
   "source": []
  },
  {
   "cell_type": "code",
   "execution_count": null,
   "id": "c8cad5ab",
   "metadata": {},
   "outputs": [],
   "source": []
  },
  {
   "cell_type": "code",
   "execution_count": null,
   "id": "1e5d8301",
   "metadata": {},
   "outputs": [],
   "source": []
  },
  {
   "cell_type": "code",
   "execution_count": null,
   "id": "4064815d",
   "metadata": {},
   "outputs": [],
   "source": []
  },
  {
   "cell_type": "code",
   "execution_count": null,
   "id": "40b23eb2",
   "metadata": {},
   "outputs": [],
   "source": []
  },
  {
   "cell_type": "code",
   "execution_count": null,
   "id": "da437363",
   "metadata": {},
   "outputs": [],
   "source": []
  },
  {
   "cell_type": "code",
   "execution_count": null,
   "id": "b15f78cf",
   "metadata": {},
   "outputs": [],
   "source": []
  },
  {
   "cell_type": "code",
   "execution_count": null,
   "id": "cfd0745c",
   "metadata": {},
   "outputs": [],
   "source": []
  },
  {
   "cell_type": "code",
   "execution_count": null,
   "id": "f5602a53",
   "metadata": {},
   "outputs": [],
   "source": []
  },
  {
   "cell_type": "code",
   "execution_count": null,
   "id": "a7976c59",
   "metadata": {},
   "outputs": [],
   "source": []
  },
  {
   "cell_type": "code",
   "execution_count": null,
   "id": "c3240d17",
   "metadata": {},
   "outputs": [],
   "source": []
  },
  {
   "cell_type": "code",
   "execution_count": null,
   "id": "f1816b8a",
   "metadata": {},
   "outputs": [],
   "source": []
  },
  {
   "cell_type": "code",
   "execution_count": null,
   "id": "b3e2611e",
   "metadata": {},
   "outputs": [],
   "source": []
  },
  {
   "cell_type": "code",
   "execution_count": null,
   "id": "954ab4c4",
   "metadata": {},
   "outputs": [],
   "source": []
  },
  {
   "cell_type": "markdown",
   "id": "1d99dd7f",
   "metadata": {},
   "source": []
  },
  {
   "cell_type": "code",
   "execution_count": null,
   "id": "4eb1ae27",
   "metadata": {},
   "outputs": [],
   "source": []
  },
  {
   "cell_type": "code",
   "execution_count": null,
   "id": "68542251",
   "metadata": {},
   "outputs": [],
   "source": []
  },
  {
   "cell_type": "code",
   "execution_count": null,
   "id": "5d56a0cc",
   "metadata": {},
   "outputs": [],
   "source": []
  },
  {
   "cell_type": "code",
   "execution_count": null,
   "id": "a0af1bff",
   "metadata": {},
   "outputs": [],
   "source": []
  },
  {
   "cell_type": "code",
   "execution_count": null,
   "id": "2e47d118",
   "metadata": {},
   "outputs": [],
   "source": []
  },
  {
   "cell_type": "code",
   "execution_count": null,
   "id": "316e3abe",
   "metadata": {},
   "outputs": [],
   "source": []
  },
  {
   "cell_type": "code",
   "execution_count": null,
   "id": "78c0b2fd",
   "metadata": {},
   "outputs": [],
   "source": []
  },
  {
   "cell_type": "code",
   "execution_count": null,
   "id": "9d01be0a",
   "metadata": {},
   "outputs": [],
   "source": []
  },
  {
   "cell_type": "code",
   "execution_count": null,
   "id": "26d783e6",
   "metadata": {},
   "outputs": [],
   "source": []
  },
  {
   "cell_type": "code",
   "execution_count": null,
   "id": "6daf5f28",
   "metadata": {},
   "outputs": [],
   "source": []
  },
  {
   "cell_type": "code",
   "execution_count": null,
   "id": "d783de20",
   "metadata": {},
   "outputs": [],
   "source": []
  },
  {
   "cell_type": "code",
   "execution_count": null,
   "id": "7e318f55",
   "metadata": {},
   "outputs": [],
   "source": []
  },
  {
   "cell_type": "code",
   "execution_count": null,
   "id": "964273bb",
   "metadata": {},
   "outputs": [],
   "source": []
  },
  {
   "cell_type": "code",
   "execution_count": null,
   "id": "1bc6c943",
   "metadata": {},
   "outputs": [],
   "source": []
  },
  {
   "cell_type": "markdown",
   "id": "9a464143",
   "metadata": {},
   "source": []
  },
  {
   "cell_type": "markdown",
   "id": "8784e806",
   "metadata": {},
   "source": []
  },
  {
   "cell_type": "markdown",
   "id": "16d4723b",
   "metadata": {},
   "source": []
  },
  {
   "cell_type": "markdown",
   "id": "d46e93cf",
   "metadata": {},
   "source": []
  },
  {
   "cell_type": "markdown",
   "id": "6bed798f",
   "metadata": {},
   "source": []
  },
  {
   "cell_type": "markdown",
   "id": "d48ab9d1",
   "metadata": {},
   "source": []
  },
  {
   "cell_type": "markdown",
   "id": "c12c7015",
   "metadata": {},
   "source": []
  },
  {
   "cell_type": "markdown",
   "id": "fbcc0c86",
   "metadata": {},
   "source": []
  },
  {
   "cell_type": "code",
   "execution_count": null,
   "id": "2732fcbf",
   "metadata": {},
   "outputs": [],
   "source": []
  },
  {
   "cell_type": "code",
   "execution_count": null,
   "id": "9a80f036",
   "metadata": {},
   "outputs": [],
   "source": []
  },
  {
   "cell_type": "code",
   "execution_count": null,
   "id": "55caa35d",
   "metadata": {},
   "outputs": [],
   "source": []
  },
  {
   "cell_type": "code",
   "execution_count": null,
   "id": "bb011f2b",
   "metadata": {},
   "outputs": [],
   "source": []
  },
  {
   "cell_type": "code",
   "execution_count": null,
   "id": "c101d267",
   "metadata": {},
   "outputs": [],
   "source": []
  },
  {
   "cell_type": "code",
   "execution_count": null,
   "id": "04ced625",
   "metadata": {},
   "outputs": [],
   "source": []
  },
  {
   "cell_type": "code",
   "execution_count": null,
   "id": "74b388b7",
   "metadata": {},
   "outputs": [],
   "source": []
  },
  {
   "cell_type": "code",
   "execution_count": null,
   "id": "dd012a33",
   "metadata": {},
   "outputs": [],
   "source": []
  },
  {
   "cell_type": "code",
   "execution_count": null,
   "id": "c02510a9",
   "metadata": {},
   "outputs": [],
   "source": []
  },
  {
   "cell_type": "code",
   "execution_count": null,
   "id": "f27dc8f0",
   "metadata": {},
   "outputs": [],
   "source": []
  },
  {
   "cell_type": "code",
   "execution_count": null,
   "id": "9fa2385a",
   "metadata": {},
   "outputs": [],
   "source": []
  },
  {
   "cell_type": "code",
   "execution_count": null,
   "id": "870f3e13",
   "metadata": {},
   "outputs": [],
   "source": []
  },
  {
   "cell_type": "code",
   "execution_count": null,
   "id": "5af633c0",
   "metadata": {},
   "outputs": [],
   "source": []
  },
  {
   "cell_type": "code",
   "execution_count": null,
   "id": "145ecf9a",
   "metadata": {},
   "outputs": [],
   "source": []
  },
  {
   "cell_type": "code",
   "execution_count": null,
   "id": "a53802ac",
   "metadata": {},
   "outputs": [],
   "source": []
  },
  {
   "cell_type": "code",
   "execution_count": null,
   "id": "a4718267",
   "metadata": {},
   "outputs": [],
   "source": []
  },
  {
   "cell_type": "code",
   "execution_count": null,
   "id": "74ad0b12",
   "metadata": {},
   "outputs": [],
   "source": []
  },
  {
   "cell_type": "code",
   "execution_count": null,
   "id": "6b451902",
   "metadata": {},
   "outputs": [],
   "source": []
  },
  {
   "cell_type": "code",
   "execution_count": null,
   "id": "00e5a926",
   "metadata": {},
   "outputs": [],
   "source": []
  },
  {
   "cell_type": "code",
   "execution_count": null,
   "id": "9e68df55",
   "metadata": {},
   "outputs": [],
   "source": []
  },
  {
   "cell_type": "code",
   "execution_count": null,
   "id": "df2863eb",
   "metadata": {},
   "outputs": [],
   "source": []
  },
  {
   "cell_type": "code",
   "execution_count": null,
   "id": "940f6261",
   "metadata": {},
   "outputs": [],
   "source": []
  },
  {
   "cell_type": "code",
   "execution_count": null,
   "id": "067974ee",
   "metadata": {},
   "outputs": [],
   "source": []
  },
  {
   "cell_type": "code",
   "execution_count": null,
   "id": "1aaa1436",
   "metadata": {},
   "outputs": [],
   "source": []
  },
  {
   "cell_type": "code",
   "execution_count": null,
   "id": "90485988",
   "metadata": {},
   "outputs": [],
   "source": []
  },
  {
   "cell_type": "code",
   "execution_count": null,
   "id": "7d53aef4",
   "metadata": {},
   "outputs": [],
   "source": []
  },
  {
   "cell_type": "code",
   "execution_count": null,
   "id": "5788a6a0",
   "metadata": {},
   "outputs": [],
   "source": []
  },
  {
   "cell_type": "code",
   "execution_count": null,
   "id": "371874a7",
   "metadata": {},
   "outputs": [],
   "source": []
  },
  {
   "cell_type": "code",
   "execution_count": null,
   "id": "ea2dfef0",
   "metadata": {},
   "outputs": [],
   "source": []
  },
  {
   "cell_type": "code",
   "execution_count": null,
   "id": "2010d5c0",
   "metadata": {},
   "outputs": [],
   "source": []
  },
  {
   "cell_type": "code",
   "execution_count": null,
   "id": "57f55d86",
   "metadata": {},
   "outputs": [],
   "source": []
  },
  {
   "cell_type": "code",
   "execution_count": null,
   "id": "3985be13",
   "metadata": {},
   "outputs": [],
   "source": []
  },
  {
   "cell_type": "code",
   "execution_count": null,
   "id": "abd3bc48",
   "metadata": {},
   "outputs": [],
   "source": []
  },
  {
   "cell_type": "code",
   "execution_count": null,
   "id": "0f40044c",
   "metadata": {},
   "outputs": [],
   "source": []
  },
  {
   "cell_type": "code",
   "execution_count": null,
   "id": "91d028f1",
   "metadata": {},
   "outputs": [],
   "source": []
  },
  {
   "cell_type": "code",
   "execution_count": null,
   "id": "fca048d8",
   "metadata": {},
   "outputs": [],
   "source": []
  },
  {
   "cell_type": "code",
   "execution_count": null,
   "id": "f4dfa112",
   "metadata": {},
   "outputs": [],
   "source": []
  },
  {
   "cell_type": "markdown",
   "id": "7f247059",
   "metadata": {},
   "source": []
  },
  {
   "cell_type": "markdown",
   "id": "ed7f8d74",
   "metadata": {},
   "source": []
  },
  {
   "cell_type": "markdown",
   "id": "923b143f",
   "metadata": {},
   "source": []
  },
  {
   "cell_type": "markdown",
   "id": "78f0bf42",
   "metadata": {},
   "source": []
  },
  {
   "cell_type": "markdown",
   "id": "02be2cb3",
   "metadata": {},
   "source": []
  },
  {
   "cell_type": "code",
   "execution_count": null,
   "id": "d990a7b5",
   "metadata": {},
   "outputs": [],
   "source": []
  },
  {
   "cell_type": "markdown",
   "id": "e4fddafd",
   "metadata": {},
   "source": []
  },
  {
   "cell_type": "markdown",
   "id": "ae55da4c",
   "metadata": {},
   "source": []
  },
  {
   "cell_type": "markdown",
   "id": "603afdab",
   "metadata": {},
   "source": []
  },
  {
   "cell_type": "code",
   "execution_count": null,
   "id": "c9ed2db3",
   "metadata": {},
   "outputs": [],
   "source": []
  },
  {
   "cell_type": "code",
   "execution_count": null,
   "id": "fc082a54",
   "metadata": {},
   "outputs": [],
   "source": []
  }
 ],
 "metadata": {
  "kernelspec": {
   "display_name": "base",
   "language": "python",
   "name": "python3"
  },
  "language_info": {
   "codemirror_mode": {
    "name": "ipython",
    "version": 3
   },
   "file_extension": ".py",
   "mimetype": "text/x-python",
   "name": "python",
   "nbconvert_exporter": "python",
   "pygments_lexer": "ipython3",
   "version": "3.10.9"
  }
 },
 "nbformat": 4,
 "nbformat_minor": 5
}
